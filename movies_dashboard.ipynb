{
 "cells": [
  {
   "cell_type": "code",
   "execution_count": null,
   "id": "d7d6d16a-92f3-469d-b3ad-6605086d2fac",
   "metadata": {},
   "outputs": [
    {
     "name": "stdout",
     "output_type": "stream",
     "text": [
      "Dash is running on http://127.0.0.1:8050/\n",
      "\n",
      " * Serving Flask app '__main__' (lazy loading)\n",
      " * Environment: production\n",
      "\u001b[31m   WARNING: This is a development server. Do not use it in a production deployment.\u001b[0m\n",
      "\u001b[2m   Use a production WSGI server instead.\u001b[0m\n",
      " * Debug mode: off\n"
     ]
    },
    {
     "name": "stderr",
     "output_type": "stream",
     "text": [
      " * Running on http://127.0.0.1:8050/ (Press CTRL+C to quit)\n",
      "127.0.0.1 - - [16/Feb/2022 03:22:18] \"GET / HTTP/1.1\" 200 -\n",
      "127.0.0.1 - - [16/Feb/2022 03:22:19] \"GET /_dash-layout HTTP/1.1\" 200 -\n",
      "127.0.0.1 - - [16/Feb/2022 03:22:19] \"GET /_dash-dependencies HTTP/1.1\" 200 -\n",
      "127.0.0.1 - - [16/Feb/2022 03:22:19] \"GET /_dash-component-suites/dash/dcc/async-dropdown.js HTTP/1.1\" 200 -\n",
      "127.0.0.1 - - [16/Feb/2022 03:22:19] \"POST /_dash-update-component HTTP/1.1\" 200 -\n",
      "127.0.0.1 - - [16/Feb/2022 03:22:21] \"POST /_dash-update-component HTTP/1.1\" 200 -\n"
     ]
    }
   ],
   "source": [
    "import altair as alt \n",
    "import pandas as pd\n",
    "import numpy as np\n",
    "from dash import Dash, html, dcc, Input, Output\n",
    "movies = pd.read_json(\"./data/movies.json\")\n",
    "\n",
    "app = Dash(__name__,  external_stylesheets=['https://codepen.io/chriddyp/pen/bWLwgP.css'])\n",
    "app.layout = html.Div([\n",
    "    \"Movies Vote Average Explorer\",\n",
    "    html.Iframe(\n",
    "        id='scatter',\n",
    "        style={'border-width': '0', 'width': '100%', 'height': '400px'}),\n",
    "    dcc.Dropdown(\n",
    "        id='xcol-widget',\n",
    "        value='runtime',  # REQUIRED to show the plot on the first page load\n",
    "        options=[{'label': col, 'value': col} for col in movies.select_dtypes(include=np.number).columns]),\n",
    "    dcc.Dropdown(\n",
    "        id='colour-widget',\n",
    "        value='studios',  # REQUIRED to show the plot on the first page load\n",
    "        options=[{'label': \"Studios\", 'value': \"studios\"}, {'label': \"Genres\", 'value': \"genres\"}])])\n",
    "\n",
    "# Set up callbacks/backend\n",
    "@app.callback(\n",
    "    Output('scatter', 'srcDoc'),\n",
    "    Input('xcol-widget', 'value'),\n",
    "    Input('colour-widget', 'value'))\n",
    "def plot_altair(xcol, colour):\n",
    "    chart = alt.Chart(movies).mark_point().encode(\n",
    "        x=xcol,\n",
    "        y='vote_average',\n",
    "        color=colour,\n",
    "        tooltip='vote_average').interactive()\n",
    "    return chart.to_html()\n",
    "\n",
    "if __name__ == '__main__':\n",
    "    app.run_server(debug=False)"
   ]
  }
 ],
 "metadata": {
  "kernelspec": {
   "display_name": "Python 3 (ipykernel)",
   "language": "python",
   "name": "python3"
  },
  "language_info": {
   "codemirror_mode": {
    "name": "ipython",
    "version": 3
   },
   "file_extension": ".py",
   "mimetype": "text/x-python",
   "name": "python",
   "nbconvert_exporter": "python",
   "pygments_lexer": "ipython3",
   "version": "3.9.7"
  }
 },
 "nbformat": 4,
 "nbformat_minor": 5
}
